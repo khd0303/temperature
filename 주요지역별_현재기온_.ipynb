{
  "nbformat": 4,
  "nbformat_minor": 0,
  "metadata": {
    "colab": {
      "provenance": [],
      "authorship_tag": "ABX9TyPMBqHCSgh0KTVu7+Rgaz6L",
      "include_colab_link": true
    },
    "kernelspec": {
      "name": "python3",
      "display_name": "Python 3"
    },
    "language_info": {
      "name": "python"
    }
  },
  "cells": [
    {
      "cell_type": "markdown",
      "metadata": {
        "id": "view-in-github",
        "colab_type": "text"
      },
      "source": [
        "<a href=\"https://colab.research.google.com/github/khd0303/temperature/blob/main/%EC%A3%BC%EC%9A%94%EC%A7%80%EC%97%AD%EB%B3%84_%ED%98%84%EC%9E%AC%EA%B8%B0%EC%98%A8_.ipynb\" target=\"_parent\"><img src=\"https://colab.research.google.com/assets/colab-badge.svg\" alt=\"Open In Colab\"/></a>"
      ]
    },
    {
      "cell_type": "code",
      "execution_count": 4,
      "metadata": {
        "id": "EzgPXU7hEeeX",
        "outputId": "b44e274d-b07b-4969-b47f-43d55c7ad60a",
        "colab": {
          "base_uri": "https://localhost:8080/"
        }
      },
      "outputs": [
        {
          "output_type": "stream",
          "name": "stdout",
          "text": [
            "\n",
            "       ※ Python Webcrawling Project 1 ※ \n",
            " \n",
            "   환영합니다, 2022년 12월 07일 11시 07분 입니다.\n",
            "      오늘의 주요 정보를 요약해 드리겠습니다.\n",
            "\n",
            " >> # 오늘의 #날씨 #요약 \n",
            "\n"
          ]
        }
      ],
      "source": [
        "import datetime\n",
        "from bs4 import BeautifulSoup\n",
        "import urllib.request\n",
        "\n",
        "now = datetime.datetime.now()\n",
        "nowDate = now.strftime('%Y년 %m월 %d일 %H시 %M분 입니다.')\n",
        "\n",
        "print(\"\\n       ※ Python Webcrawling Project 1 ※ \\n \")\n",
        "print('   환영합니다, ' + nowDate)\n",
        "print('      오늘의 주요 정보를 요약해 드리겠습니다.\\n')\n",
        "\n",
        "# 오늘의 날씨\n",
        "print(' >> # 오늘의 #날씨 #요약 \\n')\n",
        "\n",
        "\n",
        "\n"
      ]
    },
    {
      "cell_type": "code",
      "source": [],
      "metadata": {
        "id": "63uVME1I_Prd"
      },
      "execution_count": null,
      "outputs": []
    },
    {
      "cell_type": "code",
      "source": [
        "# page1. in seoul\n",
        "webpage = urllib.request.urlopen('https://weather.naver.com/today/09140104?cpName=KMA')\n",
        "\n",
        "soup = BeautifulSoup(webpage, 'html.parser')\n",
        "#temps = soup.find('strong',\"current minus\")  #만약 현재 기온이 영하일 경우에는 current minus, 영상일 경우에는 current 를 사용하도록 크롤링 해야함\n",
        "temps = soup.find('strong',\"current\")\n",
        "cast = soup.find('p',\"summary\") #어제와 오늘 같은 시간 기온의 차이\n",
        "\n",
        "print('--> 서울 날씨 : ' , temps.get_text(),cast.get_text())"
      ],
      "metadata": {
        "colab": {
          "base_uri": "https://localhost:8080/"
        },
        "id": "AXS7vvrf_MMT",
        "outputId": "5008c5f4-7f4a-47ce-d472-b6a3509fb5f4"
      },
      "execution_count": 5,
      "outputs": [
        {
          "output_type": "stream",
          "name": "stdout",
          "text": [
            "--> 서울 날씨 :  \n",
            "현재 온도5.3°\n",
            " \n",
            "맑음\n",
            "어제보다 2.4° 높아요\n"
          ]
        }
      ]
    },
    {
      "cell_type": "code",
      "source": [
        "#page2. in daegu\n",
        "webpage = urllib.request.urlopen('https://weather.naver.com/today/06110101?cpName=KMA')\n",
        "soup = BeautifulSoup(webpage, 'html.parser')\n",
        "temps = soup.find('strong',\"current\")\n",
        "\n",
        "cast = soup.find('p',\"summary\")\n",
        "\n",
        "print('--> 대구 날씨 : ' , temps.get_text(),cast.get_text())"
      ],
      "metadata": {
        "colab": {
          "base_uri": "https://localhost:8080/"
        },
        "id": "VVp8XRg3_RBj",
        "outputId": "66088a7e-5e72-41fd-a710-b6c66ba25081"
      },
      "execution_count": 6,
      "outputs": [
        {
          "output_type": "stream",
          "name": "stdout",
          "text": [
            "--> 대구 날씨 :  \n",
            "현재 온도6.9°\n",
            " \n",
            "맑음\n",
            "어제보다 3.5° 높아요\n"
          ]
        }
      ]
    },
    {
      "cell_type": "code",
      "source": [
        "#page3. in busan\n",
        "\n",
        "webpage = urllib.request.urlopen('https://weather.naver.com/today/08470690')\n",
        "soup = BeautifulSoup(webpage, 'html.parser')\n",
        "temps = soup.find('strong',\"current\")\n",
        "\n",
        "cast = soup.find('p',\"summary\") \n",
        "\n",
        "print('--> 부산 날씨 : ' , temps.get_text(),cast.get_text())"
      ],
      "metadata": {
        "colab": {
          "base_uri": "https://localhost:8080/"
        },
        "id": "blnsCJVnGmM9",
        "outputId": "10f3f4b1-6809-4c0a-92e7-cfd45388d5d9"
      },
      "execution_count": 7,
      "outputs": [
        {
          "output_type": "stream",
          "name": "stdout",
          "text": [
            "--> 부산 날씨 :  \n",
            "현재 온도7.8°\n",
            " \n",
            "맑음\n",
            "어제보다 2.4° 높아요\n"
          ]
        }
      ]
    }
  ]
}